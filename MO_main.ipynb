{
 "cells": [
  {
   "cell_type": "markdown",
   "metadata": {},
   "source": [
    "# Tested parameter space in Moore et al. (2024; submitted to ApJ):\n",
    "## Host star = M8 (stellar tracks from Baraffe et al. 2015)\n",
    "## Water inventory = {2, 4, 6, 8} Earth Oceans, but here we use water mass fraction (scaled from 2, 4, 6, 8 Earth Oceans for 1 Earth Mass)\n",
    "## Orbital distance = {Hot Inner, Mid, Cold Outer} HZ edge (@t=4.5 Gyr, from Kopparapu et al. 2013)\n",
    "# ---------------------------------"
   ]
  },
  {
   "cell_type": "markdown",
   "metadata": {},
   "source": [
    "# This notebook determine T_surfs based on OLR (=incoming flux): when below Simpson-Nakajima limit (325 W/m^2), T_surf = 293.15 K; during runaway greenhouse of T_surf = 1800 K (same as Barth et al. 2020).\n",
    "\n",
    "# ASSUMPTIONS:\n",
    "## No regassing during runaway greenhouse; all water in atmosphere (i.e., no surface water), and regassing parameterization relies on subduction. \n",
    "## Minimum water in mantle set to \"desiccation limit\" of Moore & Cowan (2020); lower limit prevents mantle viscosity --> infinity in calculations. \n",
    "\n",
    "## MO solidification timescale is the same as calculcated RG timescale.\n",
    "## Use a CONSTANT thermospheric temperature = 400 K to calculate diffusion-limited escape, as in Luger & Barnes (2015)\n",
    "## - Pure H2O atmosphere; we only track the mass of H2O in each reservoir throughout the model"
   ]
  },
  {
   "cell_type": "markdown",
   "metadata": {},
   "source": [
    "######################################################################################################################"
   ]
  },
  {
   "cell_type": "markdown",
   "metadata": {},
   "source": [
    "# Initialize notebook; import required functions/packages, and read in input parameters/variables from associated .txt files. The majority of these parameters are outlined in Table C1 of Moore & Cowan (2020). "
   ]
  },
  {
   "cell_type": "code",
   "execution_count": null,
   "metadata": {},
   "outputs": [],
   "source": [
    "%pylab inline\n",
    "import math\n",
    "import numpy as np\n",
    "import scipy\n",
    "import matplotlib\n",
    "import matplotlib.pyplot as plt\n",
    "import matplotlib.cm as cm\n",
    "from matplotlib import gridspec\n",
    "from pylab import *\n",
    "from scipy.integrate import ode\n",
    "import time\n",
    "import os.path\n",
    "import importlib"
   ]
  },
  {
   "cell_type": "markdown",
   "metadata": {},
   "source": [
    "Import all the constants and functions from local modules."
   ]
  },
  {
   "cell_type": "code",
   "execution_count": null,
   "metadata": {},
   "outputs": [],
   "source": [
    "from MOparams import *\n",
    "from MOfunc import *\n",
    "\n",
    "# Reload the local modules if anything has been changed\n",
    "%load_ext autoreload\n",
    "%autoreload 2"
   ]
  },
  {
   "cell_type": "markdown",
   "metadata": {},
   "source": [
    "## Please modify the following settings before running the simualtion."
   ]
  },
  {
   "cell_type": "code",
   "execution_count": null,
   "metadata": {},
   "outputs": [],
   "source": [
    "# Path to save following simulations to file. -- REPLACE WITH YOUR OWN DIRECTORY IF SAVING\n",
    "\n",
    "savepath = '/Users/admin/Desktop/FOR_GITHUB/'\n",
    "savepath.replace(\"\\t\",\"\\\\t\")\n",
    "savepath.replace(\"\\b\",\"\\\\b\")\n",
    "savepath.replace(\"\\r\",\"\\\\r\")\n",
    "savepath.replace(\"\\n\",\"\\\\n\")"
   ]
  },
  {
   "cell_type": "code",
   "execution_count": null,
   "metadata": {},
   "outputs": [],
   "source": [
    "# Do you have MOresults and MOcyclingresults data files in your local directory and want to skip the MO phase in the simulation?\n",
    "# Skip the MO simulation can save runtime, but errors may occur if your local data file is generated with parameters \\\n",
    "# inconsistent with this notebook.\n",
    "\n",
    "# True == Skip the MO simulation\n",
    "\n",
    "have_MO_data = False"
   ]
  },
  {
   "cell_type": "markdown",
   "metadata": {},
   "source": [
    "# Run MO simulation here.\n",
    "## Initialize all variables for the MO simulations."
   ]
  },
  {
   "cell_type": "code",
   "execution_count": null,
   "metadata": {},
   "outputs": [],
   "source": [
    "# Stellar evolution and surface temperature calculations\n",
    "\n",
    "# Stellar evolution track, from Baraffe et al. 2015 (BHAC15)\n",
    "# Read in stellar evolution track data\n",
    "hostfile = 'BHAC15_0.09Msun.txt' # corresponds to M8 host star\n",
    "\n",
    "# Parameters: Stellar type, Orbital distance, total initial water, MO/BMO solidification timescale."
   ]
  },
  {
   "cell_type": "markdown",
   "metadata": {},
   "source": [
    "## Set the initial amount of water in the MO, and calculate the initial concentration."
   ]
  },
  {
   "cell_type": "code",
   "execution_count": null,
   "metadata": {},
   "outputs": [],
   "source": [
    "# Initial mass of water in MO, and initial concentration in the MO.\n",
    "M_init_array = NUM_EARTH_OCEANS*M #np.array([2., 4., 6., 8.])*1.4e21 #[kg]; 1.4e21 kg = 1 Earth Ocean\n",
    "C_0_array = (3.*M_init_array)/(4.*np.pi*rho*(R_p**3. - R_c**3.))\n",
    "print(M_init_array/1.4e21, 'Earth Oceans')"
   ]
  },
  {
   "cell_type": "markdown",
   "metadata": {},
   "source": [
    "## Parameterization of water in each inventory during MO solidification.\n"
   ]
  },
  {
   "cell_type": "markdown",
   "metadata": {},
   "source": [
    "## Functions required for atmospheric loss calculations."
   ]
  },
  {
   "cell_type": "code",
   "execution_count": null,
   "metadata": {},
   "outputs": [],
   "source": [
    "# Orbital distances; used to determine Inner HZ, Mid HZ, and Outer HZ orbital positions.\n",
    "# Read in Kopparapu et al. (2013) HZ data, for different stellar hosts, implemented in the f_a_orb() function.\n",
    "\n",
    "HZ_data_file = \"HZs_orbits.dat\""
   ]
  },
  {
   "cell_type": "code",
   "execution_count": null,
   "metadata": {},
   "outputs": [],
   "source": [
    "print(HABITABLE_ZONE)"
   ]
  },
  {
   "cell_type": "code",
   "execution_count": null,
   "metadata": {},
   "outputs": [],
   "source": [
    "# Parameter settings please consult MOfunc.py, starting line 486\n",
    "star_age, Lbol, Lbol_Ls_star, T_eff_star = hoststar(hostfile)\n",
    "T_eff_star_45 = np.interp(4.5e9*year, star_age, T_eff_star)\n",
    "Lbol_Ls_star_45 = np.interp(4.5e9*year, star_age, Lbol_Ls_star)\n",
    "# Roughly find limits at t = 4.5 Gyr (~age of Earth)\n",
    "\n",
    "a_RV, a_RG, a_MG, a_EM = f_a_orb(4.5e9*year, HZ_data_file, hostfile)\n",
    "\n",
    "if HABITABLE_ZONE == 'ALL':\n",
    "    \n",
    "    a_orb_array = np.array([a_RG, (a_RG+a_MG)/2., a_MG])\n",
    "    a_orb_labels = ['Inner', 'Middle', 'Outer']\n",
    "    \n",
    "else:\n",
    "\n",
    "    # Take runaway greenhouse and maximum greenhouse limits as Inner/Outer HZ, and then the middle between them.\n",
    "    possible_habitable_zones = {\"Inner\" : a_RG, \"Middle\" : (a_RG+a_MG)/2., \"Outer\" : a_MG}\n",
    "    a_orb_array = np.array([val for (key, val) in possible_habitable_zones.items() if key == HABITABLE_ZONE])\n",
    "\n",
    "    habitable_zone_labels = {\"Inner\" : \"Runaway_GH\", \"Middle\" : \"Middle\", \"Outer\" : \"Maximum_GH\"}\n",
    "    a_orb_labels = np.array([val for (key, val) in habitable_zone_labels.items() if key == HABITABLE_ZONE])"
   ]
  },
  {
   "cell_type": "code",
   "execution_count": null,
   "metadata": {},
   "outputs": [],
   "source": [
    "print(a_orb_array, 'AU')\n",
    "print(a_orb_labels, 'HZ')"
   ]
  },
  {
   "cell_type": "code",
   "execution_count": null,
   "metadata": {},
   "outputs": [],
   "source": [
    "#M_init_array is the TOTAL initial water inventory, which starts in the MO; M_init_file should match that array.\n",
    "M_init_file = NUM_EARTH_OCEANS_FILE #np.array([2., 4., 6., 8.]) #[Earth Oceans]\n",
    "print(M_init_file, 'Earth Oceans')\n",
    "dt_MO = 2.03e3*year\n",
    "\n",
    "RG_t_array = np.arange(0, 1.0e9*year, dt_MO)\n",
    "tau_RG_array = np.zeros(len(a_orb_array))\n",
    "\n",
    "# calculating the time at which the runaway greenhouse and magma ocean end, based on the incoming flux for each orbital distance in a_orb_array. \n",
    "for i in range(0, len(a_orb_array)):\n",
    "    RG_TOA_flux_array = S_0(RG_t_array, a_orb_array[i]*1.496e11)\n",
    "    for j in range(0, len(RG_t_array)):\n",
    "        if RG_TOA_flux_array[j]/4. < 325./(1-alb):\n",
    "            tau_RG_array[i] = RG_t_array[j]\n",
    "            exit_idx = i\n",
    "            break\n",
    "\n",
    "tau_MO_array = tau_RG_array\n",
    "tau_MO_file = tau_MO_array/1.0e6/year"
   ]
  },
  {
   "cell_type": "markdown",
   "metadata": {},
   "source": [
    "## Begin loop for the water inventories over time during the MO."
   ]
  },
  {
   "cell_type": "code",
   "execution_count": null,
   "metadata": {},
   "outputs": [],
   "source": [
    "# This cell generates the MO results, i.e. the sans BMO model.\n",
    "# Please ignore this cell if you have MOresults and MOcycling results at your local directory.\n",
    "if have_MO_data != True:\n",
    "    dt_MO = 2.0e3*year #2000 yr per timestep\n",
    "    \n",
    "    \n",
    "    # Arrays to save final water inventories at end of MO simulation.\n",
    "    W_m_init_array = np.zeros((len(M_init_array), len(a_orb_array)))\n",
    "    W_s_init_array = np.zeros((len(M_init_array), len(a_orb_array)))\n",
    "\n",
    "    # Path to save MO simulations to file. \n",
    "    save_path = savepath\n",
    "\n",
    "    # Loop over water inventory array. \n",
    "    for kdx in range(0, len(M_init_array)): \n",
    "        # Loop over orbital distance array. \n",
    "        for ldx in range(0,len(a_orb_array)):\n",
    "                \n",
    "            t_MO_array = np.arange(0., (tau_MO_array[ldx]+dt_MO), dt_MO) # equivalent to MO solidification timescale\n",
    "            r_array = R_p - d_MO(t_MO_array, tau_MO_array[ldx], M)\n",
    "\n",
    "            # Can comment out if only running a single simulation, but used to save results to file.\n",
    "            save_file = f'MOresults_{int(M/M_E)}_earth_mass_D_of_{D}_' + str(np.int(NUM_EARTH_OCEANS_FILE[kdx])) + '_oceans_' + a_orb_labels[ldx] + '_hz.txt'\n",
    "            filename = os.path.join(save_path, save_file)\n",
    "            f = open(filename, 'w')\n",
    "            \n",
    "            # 4 TOTAL reservoirs, for mass balance throughout\n",
    "            M_MO_array = np.zeros(len(r_array)) #magma ocean\n",
    "            M_SM_array = np.zeros(len(r_array)) #solid mantle\n",
    "            M_atmo_array = np.zeros(len(r_array)) #atmosphere\n",
    "            M_lost_array = np.zeros(len(r_array)) #space \"sink\" for lost water\n",
    "\n",
    "            # Other useful arrays for saving/plotting later\n",
    "            EL_loss_MO_array = np.zeros(len(r_array)) #EL loss rate\n",
    "            DL_loss_MO_array = np.zeros(len(r_array)) #DL loss rate\n",
    "            loss_MO_array = np.zeros(len(r_array)) #actual loss rate\n",
    "            TOA_flux_MO_array = np.zeros(len(r_array)) #top-of-atmosphere flux during MO\n",
    "            a_orb = a_orb_array[ldx]*1.496e11 #[m]\n",
    "            \n",
    "            # Track MO temperature as a function of r/t.\n",
    "            T_MO_array = np.zeros(len(t_MO_array))\n",
    "\n",
    "            # Keep track of the total water inventory, for mass balance purposes throughout.\n",
    "            M_total = M_init_array[kdx] #[kg]\n",
    "\n",
    "            # Initial concentration; needs to be altered from array if MO begins simulation saturated.\n",
    "            C_initial = C_0_array[kdx]\n",
    "\n",
    "            # First, need to check if MO holds MORE water than saturation limit; if it does, degas the excess into\n",
    "            # atmosphere FIRST before running simulations.\n",
    "            if C_initial > C_sat:\n",
    "\n",
    "                MO_excess = (C_initial-C_sat)*(4.*np.pi*rho*(R_p**3. - R_c**3.))/3.\n",
    "\n",
    "                M_MO_array[0] = M_total - MO_excess\n",
    "                M_SM_array[0] = 0.\n",
    "                M_atmo_array[0] = MO_excess\n",
    "\n",
    "                C_initial = (3.*M_MO_array[0])/(4.*np.pi*rho*(R_p**3. - R_c**3.))\n",
    "\n",
    "            else:\n",
    "\n",
    "                # Set initial parameters; all water in MO:\n",
    "                M_MO_array[0] = M_total\n",
    "                M_SM_array[0] = 0.\n",
    "                M_atmo_array[0] = 0.\n",
    "            \n",
    "            EL_loss_MO_array[0] = loss_rate_EL_MO(F_XUV(t_MO_array[0], a_orb), M)\n",
    "            DL_loss_MO_array[0] = loss_rate_DL_MO(M)\n",
    "            loss_MO_array[0] = f_loss_MO(t_MO_array[0], M, a_orb)\n",
    "            TOA_flux_MO_array[0] = S_0(t_MO_array[0], a_orb)\n",
    "            T_MO_array[0] = T_MO(t_MO_array[0], tau_MO_array[ldx], M)\n",
    "            \n",
    "            # Comment in if writing to file; initial values for all above defined arrays.\n",
    "            f.write(str(t_MO_array[0]) + '\\t' + str(r_array[0]) + '\\t' + str(T_MO_array[0]) + '\\t' + str(M_MO_array[0]) +'\\t' + \\\n",
    "                    str(M_SM_array[0]) + '\\t' + str(M_atmo_array[0]) + '\\t' + str(EL_loss_MO_array[0]) + '\\t' + \\\n",
    "                    str(DL_loss_MO_array[0]) + '\\t' +str(loss_MO_array[0]) + '\\t' + str(TOA_flux_MO_array[0]) + '\\t' +\\\n",
    "                    str(M_lost_array[0]) + '\\n')\n",
    "            \n",
    "            \n",
    "            # Begin loop, advancing r(t) forward in time by timestep dt_MO.\n",
    "            for idx in range(1,len(r_array)):\n",
    "\n",
    "                EL_loss_MO_array[idx] = loss_rate_EL_MO(F_XUV(t_MO_array[idx], a_orb), M)\n",
    "                DL_loss_MO_array[idx] = loss_rate_DL_MO(M)\n",
    "                loss_MO_array[idx] = f_loss_MO(t_MO_array[idx], M, a_orb)\n",
    "                TOA_flux_MO_array[idx] = S_0(t_MO_array[idx], a_orb)\n",
    "                T_MO_array[idx] = T_MO(t_MO_array[idx], tau_MO_array[ldx], M)\n",
    "                \n",
    "                #MO undersaturated with water, i.e., r <= R_sat\n",
    "                if r_array[idx] <= R_sat(C_initial, M):\n",
    "\n",
    "                    M_MO_array[idx] = M_MO_unsat(C_initial, r_array[idx], M)\n",
    "\n",
    "                    M_SM_array[idx] = M_SM_unsat(C_initial, r_array[idx], M)\n",
    "\n",
    "                    M_atmo_array[idx] = 0.\n",
    "\n",
    "                # MO saturated/supersaturated with water (r > R_sat); atmosphere forms    \n",
    "                else: #r_array[idx] > R_sat()\n",
    "\n",
    "                    M_MO_array[idx] = M_MO_sat(r_array[idx], M)\n",
    "\n",
    "                    M_SM_array[idx] = M_SM_sat(C_initial, r_array[idx], M)\n",
    "\n",
    "                    M_atmo_array[idx] = M_total - M_SM_sat(C_initial, r_array[idx], M) - M_MO_sat(r_array[idx], M) - M_lost_array[idx-1]\n",
    "\n",
    "                   # Now add loss:\n",
    "                    if M_atmo_array[idx] <= (loss_MO_array[idx]*dt_MO):\n",
    "\n",
    "                        M_lost_array[idx] = M_lost_array[idx-1] + M_atmo_array[idx]\n",
    "                        M_atmo_array[idx] = 0.  #no water in atmosphere; all lost to space\n",
    "\n",
    "                    else: #M_atmo_array[idx] > (loss_MO_array[idx]*dt_MO)\n",
    "\n",
    "                        M_atmo_array[idx] = M_atmo_array[idx] - (loss_MO_array[idx]*dt_MO)\n",
    "                        M_lost_array[idx] = M_lost_array[idx-1] + (loss_MO_array[idx]*dt_MO)\n",
    "\n",
    "                # Comment the below line back in, to write results to file, for each timestep in loop.\n",
    "                f.write(str(t_MO_array[idx]) + '\\t' + str(r_array[idx]) + '\\t' + str(T_MO_array[idx]) + '\\t' + str(M_MO_array[idx]) +'\\t' + \\\n",
    "                    str(M_SM_array[idx]) + '\\t' + str(M_atmo_array[idx]) + '\\t' + str(EL_loss_MO_array[idx]) + '\\t' + \\\n",
    "                    str(DL_loss_MO_array[idx]) + '\\t' +str(loss_MO_array[idx]) + '\\t' + str(TOA_flux_MO_array[idx]) + '\\t' +\\\n",
    "                    str(M_lost_array[0]) + '\\n')\n",
    "                \n",
    "                \n",
    "             # Save final values to initial arrays (at end of MO/beginning of cycling) for mantle and surface reservoirs.\n",
    "            W_m_init_array[kdx, ldx] = M_SM_array[-1]\n",
    "            W_s_init_array[kdx, ldx] = M_atmo_array[-1]\n",
    "\n",
    "            # Comment back in if writing to file.\n",
    "            f.close()"
   ]
  },
  {
   "cell_type": "markdown",
   "metadata": {},
   "source": [
    "# Now we can define cycling-specific equations, to be used in the simulations for the rest of the M-Earths lifetime.\n",
    "## Same parameter space over tau_MO, water inventory, and orbital distances is followed.\n",
    "## Recall that the final water inventories in solid mantle and surface will be used as input parameters for cycling simulations."
   ]
  },
  {
   "cell_type": "markdown",
   "metadata": {},
   "source": [
    "# Cycling Functions; see Moore & Cowan (2020) for thermal evolution, and Moore, Cowan & Boukare (2023) for details of cycling. "
   ]
  },
  {
   "cell_type": "code",
   "execution_count": null,
   "metadata": {},
   "outputs": [],
   "source": [
    "## Orbital distances; repeated here in case prior MO simulation is not followed.\n",
    "# Read in Kopparapu+(2013) HZ data, for different stellar hosts.\n",
    "\n",
    "data = np.loadtxt('HZs_orbits.dat', skiprows=2)\n",
    "T_eff_kopp = data[:,0] #[K]\n",
    "# All below values give S_eff -- see Eqn.(2) of Kopparapu+(2013)\n",
    "RV_kopp = data[:,1] #Recent Venus\n",
    "RG_kopp = data[:,2] #Runaway Greenhouse\n",
    "MG_kopp = data[:,3] #Maximum Greenhouse\n",
    "EM_kopp = data[:,4] #Early Mars"
   ]
  },
  {
   "cell_type": "markdown",
   "metadata": {},
   "source": [
    "# Time-dependent Cycling & Loss Simulations"
   ]
  },
  {
   "cell_type": "markdown",
   "metadata": {},
   "source": [
    "## Change the cell below from MARKDOWN to CODE if running simulations.\n",
    "## If just reading in files (below this simulation loop), run all cells above this point, and just read in MO & cycling data from files.\n",
    "## ***NOTE FOR THIS CELL: YOU MAY GET SOME ERRORS WHILE RUNNING THIS INTEGRATION; THE LOOP CONTINUES IN A DIFFERENT MANOR WHEN IF THE VODE FAILS. EVEN WITH ERRORS, LET IT RUN, AND DOUBLE-CHECK THE RESULTS WHEN PLOTTED TO FIGURE AFTERWARDS -- IF IT IS SMOOTH THEN NO PROBLEM! OTHERWISE, NEED TO PLAY WITH THE INTEGRATION IN THE BELOW CELL"
   ]
  },
  {
   "cell_type": "code",
   "execution_count": null,
   "metadata": {},
   "outputs": [],
   "source": [
    "# MO phase cycling simulation can be skipped if local data files are present.\n",
    "if have_MO_data != True:\n",
    "    \n",
    "    for index in range(1):\n",
    "        # Loop over initial water inventories.\n",
    "        for kdx in range(0, len(M_init_array)):\n",
    "\n",
    "            # Loop over orbital distances.\n",
    "            for ldx in range(0, len(a_orb_array)):\n",
    "\n",
    "                # Set initial conditions.\n",
    "                t0 = tau_MO_array[ldx] #START AT END OF MO PHASE, is not set equal to tau_RG\n",
    "                # z0 = [mantle temperature, mantle water, surface water]\n",
    "                z0 = [3000., W_m_init_array[kdx, ldx], W_s_init_array[kdx, ldx]] #[K] [kg] [kg]\n",
    "\n",
    "                # Atmosphere initial conditions.\n",
    "                m = m_H2O #molecular mass of water \n",
    "                a_orb = a_orb_array[ldx]*1.496e11 #[m]\n",
    "                alb = 0.3 #albedo; redefined here for clarity\n",
    "                T_surf_0 = T_surf_OLR(t0, alb, a_orb)\n",
    "                T_strat_0 = T_strat(t0, a_orb)\n",
    "                # Define max time, timestep, arrays to be filled within the integration loop.\n",
    "                t1 = 5.0e9*year #5 Gyr\n",
    "                dt = 2.0e4*year #20,000 yr per timestep\n",
    "\n",
    "                # Set up function to be integrated.\n",
    "                r = ode(f_cycling_MO).set_integrator('vode')\n",
    "                r.set_initial_value(z0, t0).set_f_params(T_surf_0,T_strat_0,alb,dt,M,a_orb)\n",
    "\n",
    "                # Define arrays to be filled within the integration loop.\n",
    "                t_array = np.zeros(int((t1-t0)/dt)+1)\n",
    "                # Cycling\n",
    "                T_array = np.zeros(int((t1-t0)/dt)+1)\n",
    "                W_m_array = np.zeros(int((t1-t0)/dt)+1)\n",
    "                W_s_array = np.zeros(int((t1-t0)/dt)+1)\n",
    "                regas_array = np.zeros(int((t1-t0)/dt)+1)\n",
    "                degas_array = np.zeros(int((t1-t0)/dt)+1)\n",
    "                # Atmosphere\n",
    "                T_surf_array = np.zeros(int((t1-t0)/dt)+1)\n",
    "                T_strat_array = np.zeros(int((t1-t0)/dt)+1)\n",
    "                TOA_flux_array = np.zeros(int((t1-t0)/dt)+1)\n",
    "                loss_array = np.zeros(int((t1-t0)/dt)+1)\n",
    "                EL_array = np.zeros(int((t1-t0)/dt)+1)\n",
    "                DL_array = np.zeros(int((t1-t0)/dt)+1)\n",
    "\n",
    "                # Write results to file, for plotting later. -- CHANGE PATH IF SAVING TO FILE. \n",
    "                save_path = savepath\n",
    "                save_file = f'cyclingresults_{int(M/M_E)}_earth_mass_D_of_{D}_' + str(np.int(NUM_EARTH_OCEANS_FILE[kdx])) + '_oceans_' + a_orb_labels[ldx] + '_hz.txt'\n",
    "                filename = os.path.join(save_path, save_file)\n",
    "                f = open(filename, 'w')\n",
    "\n",
    "                # Initial values in the arrays.\n",
    "                t_array[0] = t0\n",
    "                # Cycling\n",
    "                T_array[0] = z0[0]\n",
    "                W_m_array[0] = z0[1]\n",
    "                W_s_array[0] = z0[2]\n",
    "                regas_array[0] = f_regas(t0, z0[0], z0[1], z0[2], T_surf_0, alb, M, a_orb)\n",
    "                degas_array[0] = f_degas(t0, z0[0], z0[1], z0[2], T_surf_0, M)\n",
    "\n",
    "                # Atmosphere\n",
    "                T_surf_array[0] = T_surf_0\n",
    "                T_strat_array[0] = T_strat_0\n",
    "                TOA_flux_array[0] = S_0(t0, a_orb)\n",
    "                loss_array[0] = f_loss(t0, z0[1], z0[2], alb, dt, M, a_orb)\n",
    "                EL_array[0] = loss_rate_EL(F_XUV(t0, a_orb), Rp(M), M) #[kg/s]\n",
    "                DL_array[0] = loss_rate_DL(M, 400) #[kg/s], assumes thermospheric temperature at 400K for all time.\n",
    "\n",
    "                # Write initial values to file. Comment back in if saving to file.\n",
    "                f.write(str(t_array[0]) + '\\t' + str(T_array[0]) + '\\t' + str(W_m_array[0]) +'\\t' + str(W_s_array[0]) + \\\n",
    "                        '\\t' + str(degas_array[0]) + '\\t' + str(regas_array[0]) + '\\t' + str(T_surf_array[0]) + '\\t' + \\\n",
    "                        str(T_strat_array[0]) + '\\t' + str(TOA_flux_array[0]) + '\\t' + str(loss_array[0]) + '\\t' + \\\n",
    "                        str(EL_array[0]) + '\\t' + str(DL_array[0]) + '\\n')\n",
    "\n",
    "                # Integrate the above function.\n",
    "                idx = 1\n",
    "                start_time = time.time() #time how long each loop takes\n",
    "                for idx in range(1,len(t_array)):\n",
    "\n",
    "                    if r.successful() == True:\n",
    "                        r.integrate(r.t+dt)\n",
    "                        t_array[idx] = r.t\n",
    "                        T_array[idx] = r.y[0]\n",
    "                        W_m_array[idx] = r.y[1]\n",
    "                        W_s_array[idx] = r.y[2]\n",
    "\n",
    "                        T_surf_array[idx] = T_surf_OLR(r.t, alb, a_orb)\n",
    "                        T_strat_array[idx] = T_strat(r.t, a_orb)\n",
    "                        TOA_flux_array[idx] = S_0(r.t, a_orb)\n",
    "\n",
    "                        regas_array[idx] = f_regas(r.t, r.y[0], r.y[1], r.y[2], T_surf_array[idx], alb, M, a_orb)\n",
    "                        degas_array[idx] = f_degas(r.t, r.y[0], r.y[1], r.y[2], T_surf_array[idx], M)\n",
    "                        loss_array[idx] = f_loss(r.t, r.y[1], r.y[2], alb, dt, M, a_orb)\n",
    "                        EL_array[idx] = loss_rate_EL(F_XUV(r.t, a_orb), Rp(M), M) #[kg/s]\n",
    "                        DL_array[idx] = loss_rate_DL(M, T = 400) #[kg/s]\n",
    "\n",
    "                        # Write current values to file. Comment back in if writing to file.\n",
    "                        f.write(str(t_array[idx]) + '\\t' + str(T_array[idx]) + '\\t' + str(W_m_array[idx]) +'\\t' + str(W_s_array[idx]) + \\\n",
    "                            '\\t' + str(degas_array[idx]) + '\\t' + str(regas_array[idx]) + '\\t' + str(T_surf_array[idx]) + '\\t' + \\\n",
    "                            str(T_strat_array[idx]) + '\\t' + str(TOA_flux_array[idx]) + '\\t' + str(loss_array[idx]) + '\\t' + \\\n",
    "                            str(EL_array[idx]) + '\\t' + str(DL_array[idx]) + '\\n')\n",
    "\n",
    "                    elif r.successful() == False: #slightly less elegant, more direct way\n",
    "\n",
    "                        t_array[idx] = t_array[idx-1] + dt\n",
    "                        T_array[idx] = T_array[idx-1] + \\\n",
    "                            f_delta_temp(t_array[idx-1], T_array[idx-1], W_m_array[idx-1], W_s_array[idx-1], T_surf_array[idx-1], M)*dt\n",
    "                        # Basal magma ocean variables required for calculation of W_m_array.\n",
    "                        W_m_array[idx] = W_m_array[idx-1] + \\\n",
    "                            f_delta_W_m_MO(t_array[idx-1], T_array[idx-1], W_m_array[idx-1], W_s_array[idx-1], T_surf_array[idx-1], alb, dt, M, a_orb)*dt\n",
    "                        W_s_array[idx] = W_s_array[idx-1] + \\\n",
    "                            f_delta_W_s_MO(t_array[idx-1], T_array[idx-1], W_m_array[idx-1], W_s_array[idx-1], T_surf_array[idx-1], T_strat_array[idx-1], alb, dt, M, a_orb)*dt\n",
    "\n",
    "                        T_surf_array[idx] = T_surf_OLR(t_array[idx], alb, a_orb)\n",
    "                        T_strat_array[idx] = T_strat(t_array[idx], a_orb)\n",
    "                        TOA_flux_array[idx] = S_0(t_array[idx], a_orb)\n",
    "\n",
    "                        regas_array[idx] = f_regas(t_array[idx], T_array[idx-1], W_m_array[idx], W_s_array[idx], T_surf_array[idx], alb, M, a_orb)\n",
    "                        degas_array[idx] = f_degas(t_array[idx], T_array[idx-1], W_m_array[idx], W_s_array[idx], T_surf_array[idx], M)\n",
    "                        loss_array[idx] = f_loss(t_array[idx], W_m_array[idx], W_s_array[idx], alb, dt, M, a_orb)\n",
    "                        EL_array[idx] = loss_rate_EL(F_XUV(t_array[idx], a_orb), Rp(M), M) #[kg/s]\n",
    "                        DL_array[idx] = loss_rate_DL(M, T = 400) #[kg/s]\n",
    "\n",
    "                        # Write current values to file. Comment back in if writing to file.\n",
    "                        f.write(str(t_array[idx]) + '\\t' + str(T_array[idx]) + '\\t' + str(W_m_array[idx]) +'\\t' + str(W_s_array[idx]) + \\\n",
    "                            '\\t' + str(degas_array[idx]) + '\\t' + str(regas_array[idx]) + '\\t' + str(T_surf_array[idx]) + '\\t' + \\\n",
    "                            str(T_strat_array[idx]) + '\\t' + str(TOA_flux_array[idx]) + '\\t' + str(loss_array[idx]) + '\\t' + \\\n",
    "                            str(EL_array[idx]) + '\\t' + str(DL_array[idx]) + '\\n')\n",
    "\n",
    "                if W_m_array[-1]+W_s_array[-1] <= 1.29e16: #desiccation limit from Moore & Cowan (2020); can also be checked later if data saved to file\n",
    "                    print('Planet Desiccated')\n",
    "\n",
    "                # Comment back in if saving to file.\n",
    "                f.close()\n",
    "\n",
    "                end_time = time.time()\n",
    "                print(end_time-start_time, ' s') #print the amount of time it took for the loop to run."
   ]
  },
  {
   "cell_type": "code",
   "execution_count": null,
   "metadata": {},
   "outputs": [],
   "source": []
  }
 ],
 "metadata": {
  "kernelspec": {
   "display_name": "Python 3",
   "language": "python",
   "name": "python3"
  },
  "language_info": {
   "codemirror_mode": {
    "name": "ipython",
    "version": 3
   },
   "file_extension": ".py",
   "mimetype": "text/x-python",
   "name": "python",
   "nbconvert_exporter": "python",
   "pygments_lexer": "ipython3",
   "version": "3.7.2"
  },
  "vscode": {
   "interpreter": {
    "hash": "31f2aee4e71d21fbe5cf8b01ff0e069b9275f58929596ceb00d14d90e3e16cd6"
   }
  }
 },
 "nbformat": 4,
 "nbformat_minor": 4
}
